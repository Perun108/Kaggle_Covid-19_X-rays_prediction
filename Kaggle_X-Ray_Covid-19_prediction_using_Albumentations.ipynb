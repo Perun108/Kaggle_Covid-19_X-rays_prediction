{
 "cells": [
  {
   "cell_type": "code",
   "execution_count": null,
   "metadata": {
    "colab": {
     "base_uri": "https://localhost:8080/"
    },
    "id": "MwNL9C7x02qA",
    "outputId": "a79e4cc4-eb63-4b11-c1f5-ebe012926514"
   },
   "outputs": [],
   "source": [
    "!pip install -U git+https://github.com/albu/albumentations --no-cache-dir"
   ]
  },
  {
   "cell_type": "code",
   "execution_count": null,
   "metadata": {
    "_cell_guid": "b1076dfc-b9ad-4769-8c92-a6c4dae69d19",
    "_uuid": "8f2839f25d086af736a60e9eeb907d3b93b6e0e5",
    "execution": {
     "iopub.execute_input": "2021-07-14T09:15:29.529122Z",
     "iopub.status.busy": "2021-07-14T09:15:29.528783Z",
     "iopub.status.idle": "2021-07-14T09:15:35.674470Z",
     "shell.execute_reply": "2021-07-14T09:15:35.673546Z",
     "shell.execute_reply.started": "2021-07-14T09:15:29.529089Z"
    },
    "id": "h1C5vlPRT6an"
   },
   "outputs": [],
   "source": [
    "import tensorflow as tf\n",
    "from tensorflow.keras.preprocessing.image import ImageDataGenerator\n",
    "import numpy as np\n",
    "import pandas as pd\n",
    "import matplotlib.pyplot as plt\n",
    "import sklearn\n",
    "from sklearn.preprocessing import LabelBinarizer\n",
    "import os\n",
    "import sys\n",
    "import cv2\n",
    "from PIL import Image\n",
    "import ast\n",
    "import shutil\n",
    "import random\n",
    "import time\n",
    "\n",
    "from tensorflow.keras.layers import Dense\n",
    "from tensorflow.keras.layers import Conv2D\n",
    "from tensorflow.keras.layers import MaxPooling2D\n",
    "from tensorflow.keras.layers import AvgPool2D\n",
    "from tensorflow.keras.layers import Flatten\n",
    "from tensorflow.keras.layers import Dropout\n",
    "from tensorflow.keras.layers import BatchNormalization\n",
    "from tensorflow.keras.layers import Input\n",
    "from tensorflow.keras.models import Model\n",
    "from tensorflow.keras.optimizers import Adam\n",
    "\n",
    "import albumentations as A"
   ]
  },
  {
   "cell_type": "code",
   "execution_count": null,
   "metadata": {
    "colab": {
     "base_uri": "https://localhost:8080/"
    },
    "id": "XlLcKuv21x3r",
    "outputId": "9072a8c0-946a-41e0-e3ed-a363d0fbff35"
   },
   "outputs": [
    {
     "name": "stdout",
     "output_type": "stream",
     "text": [
      "1.0.3\n"
     ]
    }
   ],
   "source": [
    "print(A.__version__)"
   ]
  },
  {
   "cell_type": "code",
   "execution_count": null,
   "metadata": {
    "colab": {
     "base_uri": "https://localhost:8080/"
    },
    "id": "WGzGRtchU7oa",
    "outputId": "1f14a812-9184-426d-c077-d6bea1183e34"
   },
   "outputs": [
    {
     "name": "stdout",
     "output_type": "stream",
     "text": [
      "Mounted at /content/drive\n"
     ]
    }
   ],
   "source": [
    "from google.colab import drive\n",
    "drive.mount('/content/drive')"
   ]
  },
  {
   "cell_type": "code",
   "execution_count": null,
   "metadata": {
    "colab": {
     "base_uri": "https://localhost:8080/"
    },
    "execution": {
     "iopub.execute_input": "2021-07-14T09:15:35.681864Z",
     "iopub.status.busy": "2021-07-14T09:15:35.681365Z",
     "iopub.status.idle": "2021-07-14T09:16:06.083604Z",
     "shell.execute_reply": "2021-07-14T09:16:06.082675Z",
     "shell.execute_reply.started": "2021-07-14T09:15:35.681831Z"
    },
    "id": "f_hd14ddT6aq",
    "outputId": "d4b49200-b240-4015-bf2b-05bc85c6c4ff"
   },
   "outputs": [
    {
     "name": "stdout",
     "output_type": "stream",
     "text": [
      "/content\n",
      "6334\n",
      "6054\n",
      "Convertng and combining classes. This will take ~10 secs\n",
      "Unpacking bboxes into separate columns. This will take ~20 secs\n",
      "All bboxes unpacked and scaled\n"
     ]
    }
   ],
   "source": [
    "!pwd\n",
    "\n",
    "train_image = pd.read_csv('/content/drive/MyDrive/train_image_level.csv')\n",
    "train_study = pd.read_csv('/content/drive/MyDrive/train_study_level.csv')\n",
    "\n",
    "print(len(train_image))\n",
    "print(len(train_study))\n",
    "\n",
    "#### Rename columns\n",
    "\n",
    "train_study['id'] = train_study['id'].str.replace('_study', '')\n",
    "\n",
    "train_study.rename(columns={'id': 'StudyInstanceUID'}, inplace=True)\n",
    "\n",
    "#### Train_result is the final dataframe for training\n",
    "\n",
    "train_result = train_image.merge(train_study, on='StudyInstanceUID', how='left')\n",
    "\n",
    "train_result['id'] = train_result['id'].str.replace('_image', '')\n",
    "\n",
    "#### Add Original dimensions for scaling bboxes\n",
    "\n",
    "original_dims = pd.read_csv('/content/drive/MyDrive/meta.csv')\n",
    "original_dims.rename(columns={'image_id': 'id'}, inplace=True)\n",
    "\n",
    "train_result_final = train_result.merge(original_dims, on='id', how='left')\n",
    "\n",
    "#### Add extensions to filenames\n",
    "train_result_final['id'] = train_result_final['id'] + '.jpg'\n",
    "\n",
    "### Scale bboxes proportionally\n",
    "\n",
    "train_result_final[\"boxes\"] = train_result_final[\"boxes\"].fillna(\"[{'x':0, 'y':0, 'width':1, 'height':1}]\")\n",
    "train_result_final[\"boxes\"] = train_result_final[\"boxes\"].apply(lambda x: ast.literal_eval(x))\n",
    "\n",
    "### Add classes (str and num)\n",
    "\n",
    "labels_dict = {'Negative for Pneumonia': [\"negative\", 0], 'Typical Appearance': [\"typical\", 1], 'Indeterminate Appearance': [\"indeterminate\", 2], 'Atypical Appearance': [\"atypical\", 3]}\n",
    "\n",
    "def convert_and_combine_classes(df):\n",
    "    for lbl in labels_dict:\n",
    "        if df[lbl]:\n",
    "            df['class'] = labels_dict[lbl][0]\n",
    "            df['class_num'] = labels_dict[lbl][1]\n",
    "    return df\n",
    "\n",
    "print(\"Convertng and combining classes. This will take ~10 secs\")\n",
    "train_result_final = train_result_final.apply(convert_and_combine_classes, axis=1)\n",
    "\n",
    "### Convert and scale bboxes coordinates\n",
    "\n",
    "def convert_bboxes_to_pascal_voc(df):\n",
    "    \"\"\" go from xmin,ymin,width,height --> xmin,ymin,xmax,ymax \"\"\"\n",
    "    for dictionary in df[\"boxes\"]:\n",
    "        df[\"xmin\"] = dictionary[\"x\"]\n",
    "        df[\"ymin\"] = dictionary[\"y\"]\n",
    "        df[\"xmax\"] = dictionary[\"x\"] + dictionary[\"width\"]\n",
    "        df[\"ymax\"] = dictionary[\"y\"] + dictionary[\"height\"]\n",
    "    return df\n",
    "\n",
    "def scale_bbox_coor(df):\n",
    "    # if df['class'] != 'negative':\n",
    "    df['xmin'] *= (1 / df['dim1'])\n",
    "    df['xmax'] *= (1 / df['dim1'])\n",
    "    df['ymin'] *= (1 / df['dim0'])\n",
    "    df['ymax'] *= (1 / df['dim0'])\n",
    "    return df\n",
    "\n",
    "print(\"Unpacking bboxes into separate columns. This will take ~20 secs\")\n",
    "train_result_final = train_result_final.apply(convert_bboxes_to_pascal_voc, axis=1)\n",
    "train_result_final = train_result_final.apply(scale_bbox_coor, axis=1)\n",
    "\n",
    "train_result_final = train_result_final.filter(['id', 'xmin', 'ymin', 'xmax', 'ymax', 'class'], axis=1)\n",
    "print(\"All bboxes unpacked and scaled\")"
   ]
  },
  {
   "cell_type": "code",
   "execution_count": null,
   "metadata": {
    "colab": {
     "base_uri": "https://localhost:8080/",
     "height": 81
    },
    "id": "NYZWz5NnM71B",
    "outputId": "f75b70cb-ea05-4b5d-bb05-e854125414f7"
   },
   "outputs": [
    {
     "data": {
      "text/html": [
       "<div>\n",
       "<style scoped>\n",
       "    .dataframe tbody tr th:only-of-type {\n",
       "        vertical-align: middle;\n",
       "    }\n",
       "\n",
       "    .dataframe tbody tr th {\n",
       "        vertical-align: top;\n",
       "    }\n",
       "\n",
       "    .dataframe thead th {\n",
       "        text-align: right;\n",
       "    }\n",
       "</style>\n",
       "<table border=\"1\" class=\"dataframe\">\n",
       "  <thead>\n",
       "    <tr style=\"text-align: right;\">\n",
       "      <th></th>\n",
       "      <th>id</th>\n",
       "      <th>xmin</th>\n",
       "      <th>ymin</th>\n",
       "      <th>xmax</th>\n",
       "      <th>ymax</th>\n",
       "      <th>class</th>\n",
       "    </tr>\n",
       "  </thead>\n",
       "  <tbody>\n",
       "    <tr>\n",
       "      <th>5477</th>\n",
       "      <td>dc5b7d2810ab.jpg</td>\n",
       "      <td>0.0</td>\n",
       "      <td>0.0</td>\n",
       "      <td>0.000333</td>\n",
       "      <td>0.000464</td>\n",
       "      <td>negative</td>\n",
       "    </tr>\n",
       "  </tbody>\n",
       "</table>\n",
       "</div>"
      ],
      "text/plain": [
       "                    id  xmin  ymin      xmax      ymax     class\n",
       "5477  dc5b7d2810ab.jpg   0.0   0.0  0.000333  0.000464  negative"
      ]
     },
     "execution_count": 6,
     "metadata": {
      "tags": []
     },
     "output_type": "execute_result"
    }
   ],
   "source": [
    "train_result_final.loc[train_result_final['id'] == 'dc5b7d2810ab.jpg']"
   ]
  },
  {
   "cell_type": "code",
   "execution_count": null,
   "metadata": {
    "execution": {
     "iopub.execute_input": "2021-07-14T09:16:06.085912Z",
     "iopub.status.busy": "2021-07-14T09:16:06.085544Z",
     "iopub.status.idle": "2021-07-14T09:16:14.217889Z",
     "shell.execute_reply": "2021-07-14T09:16:14.216822Z",
     "shell.execute_reply.started": "2021-07-14T09:16:06.085881Z"
    },
    "id": "f-MgFmb-T6at"
   },
   "outputs": [],
   "source": [
    "!rm -rf ./train\n",
    "!rm -rf ./val\n",
    "\n",
    "!mkdir -p ./train\n",
    "!mkdir -p ./val\n",
    "\n",
    "!mkdir -p ./train/negative\n",
    "!mkdir -p ./train/typical\n",
    "!mkdir -p ./train/indeterminate\n",
    "!mkdir -p ./train/atypical\n",
    "\n",
    "!mkdir -p ./val/negative\n",
    "!mkdir -p ./val/typical\n",
    "!mkdir -p ./val/indeterminate\n",
    "!mkdir -p ./val/atypical"
   ]
  },
  {
   "cell_type": "markdown",
   "metadata": {
    "id": "1ocHxfVBT6au"
   },
   "source": [
    "## Copy images to train dataset and move 20% of images from train to valid dataset (and add their names to val_filenames list)"
   ]
  },
  {
   "cell_type": "code",
   "execution_count": null,
   "metadata": {
    "colab": {
     "base_uri": "https://localhost:8080/"
    },
    "execution": {
     "iopub.execute_input": "2021-07-14T09:16:14.220363Z",
     "iopub.status.busy": "2021-07-14T09:16:14.219978Z",
     "iopub.status.idle": "2021-07-14T09:16:41.051201Z",
     "shell.execute_reply": "2021-07-14T09:16:41.049784Z",
     "shell.execute_reply.started": "2021-07-14T09:16:14.220322Z"
    },
    "id": "RDfR7owrT6au",
    "outputId": "fb16e343-9876-4f41-8789-beddb4035c3d"
   },
   "outputs": [
    {
     "name": "stdout",
     "output_type": "stream",
     "text": [
      "Copied 500 files\n",
      "Copied 1000 files\n",
      "Copied 1500 files\n"
     ]
    }
   ],
   "source": [
    "start_time = time.time()\n",
    "\n",
    "original_dataset_path = '/content/drive/MyDrive/siim_train_6334_jpg'\n",
    "\n",
    "i = 0\n",
    "for _, row in train_result_final.iterrows():\n",
    "    class_type = row['class']\n",
    "    source_file_path = os.path.join(original_dataset_path, row['id'])\n",
    "    dest_file_path = os.path.join('./train', class_type, row['id'])\n",
    "    shutil.copy(source_file_path, dest_file_path)\n",
    "    i += 1\n",
    "    if i % 500 == 0:\n",
    "      print(f\"Copied {i} files\")\n",
    "print(f\"Copied all {i} files\")\n",
    "print(f\"Took {(time.time() - start_time)/60:.3} minutes\")"
   ]
  },
  {
   "cell_type": "code",
   "execution_count": null,
   "metadata": {
    "id": "ZoqPe7ANMjR-"
   },
   "outputs": [],
   "source": [
    "## Move 20% of images from train to valid dataset (and add their names to val_filenames list)\n",
    "\n",
    "start_time = time.time()\n",
    "\n",
    "i = 0\n",
    "val_filenames = []\n",
    "for dirpath, dirname, filenames in os.walk('./train'):\n",
    "    if filenames:\n",
    "        shuffled_filenames = random.sample(filenames, len(filenames))\n",
    "        split_name = dirpath.split('/')[-1]\n",
    "        for filename in shuffled_filenames[int(len(shuffled_filenames)*0.8):]:\n",
    "            source_filename = os.path.join(dirpath, filename)\n",
    "            dest_filename = os.path.join('./val', split_name, filename)\n",
    "            shutil.move(source_filename, dest_filename)\n",
    "            val_filenames.append(filename)\n",
    "            i += 1\n",
    "            if i % 500 == 0:\n",
    "              print(f\"Moved {i} files\")\n",
    "print(f\"Moved all {i} files\")        \n",
    "print(f\"Took {(time.time() - start_time):.3} seconds\")"
   ]
  },
  {
   "cell_type": "markdown",
   "metadata": {
    "id": "oEpTqDinT6av"
   },
   "source": [
    "#### Add a column to train_result_final with split names (train/val)"
   ]
  },
  {
   "cell_type": "code",
   "execution_count": null,
   "metadata": {
    "execution": {
     "iopub.execute_input": "2021-07-14T09:16:41.062745Z",
     "iopub.status.busy": "2021-07-14T09:16:41.062256Z",
     "iopub.status.idle": "2021-07-14T09:16:42.069158Z",
     "shell.execute_reply": "2021-07-14T09:16:42.068252Z",
     "shell.execute_reply.started": "2021-07-14T09:16:41.062707Z"
    },
    "id": "Khgt7u69T6aw"
   },
   "outputs": [],
   "source": [
    "for ind, row in train_result_final.iterrows():\n",
    "    if row['id'] in val_filenames:\n",
    "        train_result_final.at[ind, 'split'] = 'val'\n",
    "    else:\n",
    "        train_result_final.at[ind, 'split'] = 'train'\n",
    "    "
   ]
  },
  {
   "cell_type": "code",
   "execution_count": null,
   "metadata": {
    "colab": {
     "base_uri": "https://localhost:8080/",
     "height": 424
    },
    "execution": {
     "iopub.execute_input": "2021-07-14T09:16:42.070804Z",
     "iopub.status.busy": "2021-07-14T09:16:42.070455Z",
     "iopub.status.idle": "2021-07-14T09:16:42.100564Z",
     "shell.execute_reply": "2021-07-14T09:16:42.099806Z",
     "shell.execute_reply.started": "2021-07-14T09:16:42.070767Z"
    },
    "id": "yKt3HSQhT6ax",
    "outputId": "e372b39d-1533-4e38-f1b4-339f8b1df0e4"
   },
   "outputs": [
    {
     "data": {
      "text/html": [
       "<div>\n",
       "<style scoped>\n",
       "    .dataframe tbody tr th:only-of-type {\n",
       "        vertical-align: middle;\n",
       "    }\n",
       "\n",
       "    .dataframe tbody tr th {\n",
       "        vertical-align: top;\n",
       "    }\n",
       "\n",
       "    .dataframe thead th {\n",
       "        text-align: right;\n",
       "    }\n",
       "</style>\n",
       "<table border=\"1\" class=\"dataframe\">\n",
       "  <thead>\n",
       "    <tr style=\"text-align: right;\">\n",
       "      <th></th>\n",
       "      <th>id</th>\n",
       "      <th>xmin</th>\n",
       "      <th>ymin</th>\n",
       "      <th>xmax</th>\n",
       "      <th>ymax</th>\n",
       "      <th>class</th>\n",
       "      <th>split</th>\n",
       "    </tr>\n",
       "  </thead>\n",
       "  <tbody>\n",
       "    <tr>\n",
       "      <th>0</th>\n",
       "      <td>000a312787f2.jpg</td>\n",
       "      <td>0.527705</td>\n",
       "      <td>0.169497</td>\n",
       "      <td>0.784909</td>\n",
       "      <td>0.674528</td>\n",
       "      <td>typical</td>\n",
       "      <td>val</td>\n",
       "    </tr>\n",
       "    <tr>\n",
       "      <th>1</th>\n",
       "      <td>000c3a3f293f.jpg</td>\n",
       "      <td>0.000000</td>\n",
       "      <td>0.000000</td>\n",
       "      <td>0.000353</td>\n",
       "      <td>0.000431</td>\n",
       "      <td>negative</td>\n",
       "      <td>train</td>\n",
       "    </tr>\n",
       "    <tr>\n",
       "      <th>2</th>\n",
       "      <td>0012ff7358bc.jpg</td>\n",
       "      <td>0.586613</td>\n",
       "      <td>0.158236</td>\n",
       "      <td>0.788520</td>\n",
       "      <td>0.631647</td>\n",
       "      <td>typical</td>\n",
       "      <td>train</td>\n",
       "    </tr>\n",
       "    <tr>\n",
       "      <th>3</th>\n",
       "      <td>001398f4ff4f.jpg</td>\n",
       "      <td>0.637617</td>\n",
       "      <td>0.619697</td>\n",
       "      <td>0.859112</td>\n",
       "      <td>0.791288</td>\n",
       "      <td>atypical</td>\n",
       "      <td>val</td>\n",
       "    </tr>\n",
       "    <tr>\n",
       "      <th>4</th>\n",
       "      <td>001bd15d1891.jpg</td>\n",
       "      <td>0.756622</td>\n",
       "      <td>0.356667</td>\n",
       "      <td>0.951066</td>\n",
       "      <td>0.756667</td>\n",
       "      <td>typical</td>\n",
       "      <td>train</td>\n",
       "    </tr>\n",
       "    <tr>\n",
       "      <th>...</th>\n",
       "      <td>...</td>\n",
       "      <td>...</td>\n",
       "      <td>...</td>\n",
       "      <td>...</td>\n",
       "      <td>...</td>\n",
       "      <td>...</td>\n",
       "      <td>...</td>\n",
       "    </tr>\n",
       "    <tr>\n",
       "      <th>6329</th>\n",
       "      <td>ffcc6edd9445.jpg</td>\n",
       "      <td>0.000000</td>\n",
       "      <td>0.000000</td>\n",
       "      <td>0.000287</td>\n",
       "      <td>0.000236</td>\n",
       "      <td>negative</td>\n",
       "      <td>train</td>\n",
       "    </tr>\n",
       "    <tr>\n",
       "      <th>6330</th>\n",
       "      <td>ffd91a2c4ca0.jpg</td>\n",
       "      <td>0.000000</td>\n",
       "      <td>0.000000</td>\n",
       "      <td>0.000293</td>\n",
       "      <td>0.000357</td>\n",
       "      <td>negative</td>\n",
       "      <td>train</td>\n",
       "    </tr>\n",
       "    <tr>\n",
       "      <th>6331</th>\n",
       "      <td>ffd9b6cf2961.jpg</td>\n",
       "      <td>0.231886</td>\n",
       "      <td>0.302378</td>\n",
       "      <td>0.360457</td>\n",
       "      <td>0.657984</td>\n",
       "      <td>typical</td>\n",
       "      <td>train</td>\n",
       "    </tr>\n",
       "    <tr>\n",
       "      <th>6332</th>\n",
       "      <td>ffdc682f7680.jpg</td>\n",
       "      <td>0.236328</td>\n",
       "      <td>0.454323</td>\n",
       "      <td>0.391927</td>\n",
       "      <td>0.676752</td>\n",
       "      <td>typical</td>\n",
       "      <td>train</td>\n",
       "    </tr>\n",
       "    <tr>\n",
       "      <th>6333</th>\n",
       "      <td>ffe942c8655f.jpg</td>\n",
       "      <td>0.544719</td>\n",
       "      <td>0.126606</td>\n",
       "      <td>0.853204</td>\n",
       "      <td>0.607098</td>\n",
       "      <td>typical</td>\n",
       "      <td>train</td>\n",
       "    </tr>\n",
       "  </tbody>\n",
       "</table>\n",
       "<p>6334 rows × 7 columns</p>\n",
       "</div>"
      ],
      "text/plain": [
       "                    id      xmin      ymin      xmax      ymax     class  split\n",
       "0     000a312787f2.jpg  0.527705  0.169497  0.784909  0.674528   typical    val\n",
       "1     000c3a3f293f.jpg  0.000000  0.000000  0.000353  0.000431  negative  train\n",
       "2     0012ff7358bc.jpg  0.586613  0.158236  0.788520  0.631647   typical  train\n",
       "3     001398f4ff4f.jpg  0.637617  0.619697  0.859112  0.791288  atypical    val\n",
       "4     001bd15d1891.jpg  0.756622  0.356667  0.951066  0.756667   typical  train\n",
       "...                ...       ...       ...       ...       ...       ...    ...\n",
       "6329  ffcc6edd9445.jpg  0.000000  0.000000  0.000287  0.000236  negative  train\n",
       "6330  ffd91a2c4ca0.jpg  0.000000  0.000000  0.000293  0.000357  negative  train\n",
       "6331  ffd9b6cf2961.jpg  0.231886  0.302378  0.360457  0.657984   typical  train\n",
       "6332  ffdc682f7680.jpg  0.236328  0.454323  0.391927  0.676752   typical  train\n",
       "6333  ffe942c8655f.jpg  0.544719  0.126606  0.853204  0.607098   typical  train\n",
       "\n",
       "[6334 rows x 7 columns]"
      ]
     },
     "execution_count": 10,
     "metadata": {
      "tags": []
     },
     "output_type": "execute_result"
    }
   ],
   "source": [
    "train_result_final"
   ]
  },
  {
   "cell_type": "code",
   "execution_count": null,
   "metadata": {
    "id": "019EKOjGok15"
   },
   "outputs": [],
   "source": [
    "train_df = train_result_final.loc[train_result_final['split'] == 'train'].reset_index(drop=True)"
   ]
  },
  {
   "cell_type": "code",
   "execution_count": null,
   "metadata": {
    "colab": {
     "base_uri": "https://localhost:8080/",
     "height": 424
    },
    "id": "s2ckUWOksV2F",
    "outputId": "4a78ae22-1276-4a49-cd9a-e748b64ee7e0"
   },
   "outputs": [
    {
     "data": {
      "text/html": [
       "<div>\n",
       "<style scoped>\n",
       "    .dataframe tbody tr th:only-of-type {\n",
       "        vertical-align: middle;\n",
       "    }\n",
       "\n",
       "    .dataframe tbody tr th {\n",
       "        vertical-align: top;\n",
       "    }\n",
       "\n",
       "    .dataframe thead th {\n",
       "        text-align: right;\n",
       "    }\n",
       "</style>\n",
       "<table border=\"1\" class=\"dataframe\">\n",
       "  <thead>\n",
       "    <tr style=\"text-align: right;\">\n",
       "      <th></th>\n",
       "      <th>id</th>\n",
       "      <th>xmin</th>\n",
       "      <th>ymin</th>\n",
       "      <th>xmax</th>\n",
       "      <th>ymax</th>\n",
       "      <th>class</th>\n",
       "      <th>split</th>\n",
       "    </tr>\n",
       "  </thead>\n",
       "  <tbody>\n",
       "    <tr>\n",
       "      <th>0</th>\n",
       "      <td>000c3a3f293f.jpg</td>\n",
       "      <td>0.000000</td>\n",
       "      <td>0.000000</td>\n",
       "      <td>0.000353</td>\n",
       "      <td>0.000431</td>\n",
       "      <td>negative</td>\n",
       "      <td>train</td>\n",
       "    </tr>\n",
       "    <tr>\n",
       "      <th>1</th>\n",
       "      <td>0012ff7358bc.jpg</td>\n",
       "      <td>0.586613</td>\n",
       "      <td>0.158236</td>\n",
       "      <td>0.788520</td>\n",
       "      <td>0.631647</td>\n",
       "      <td>typical</td>\n",
       "      <td>train</td>\n",
       "    </tr>\n",
       "    <tr>\n",
       "      <th>2</th>\n",
       "      <td>001bd15d1891.jpg</td>\n",
       "      <td>0.756622</td>\n",
       "      <td>0.356667</td>\n",
       "      <td>0.951066</td>\n",
       "      <td>0.756667</td>\n",
       "      <td>typical</td>\n",
       "      <td>train</td>\n",
       "    </tr>\n",
       "    <tr>\n",
       "      <th>3</th>\n",
       "      <td>0022227f5adf.jpg</td>\n",
       "      <td>0.608920</td>\n",
       "      <td>0.200199</td>\n",
       "      <td>0.732208</td>\n",
       "      <td>0.357556</td>\n",
       "      <td>indeterminate</td>\n",
       "      <td>train</td>\n",
       "    </tr>\n",
       "    <tr>\n",
       "      <th>4</th>\n",
       "      <td>002e9b2128d0.jpg</td>\n",
       "      <td>0.649089</td>\n",
       "      <td>0.308455</td>\n",
       "      <td>0.953776</td>\n",
       "      <td>0.943843</td>\n",
       "      <td>typical</td>\n",
       "      <td>train</td>\n",
       "    </tr>\n",
       "    <tr>\n",
       "      <th>...</th>\n",
       "      <td>...</td>\n",
       "      <td>...</td>\n",
       "      <td>...</td>\n",
       "      <td>...</td>\n",
       "      <td>...</td>\n",
       "      <td>...</td>\n",
       "      <td>...</td>\n",
       "    </tr>\n",
       "    <tr>\n",
       "      <th>5060</th>\n",
       "      <td>ffcc6edd9445.jpg</td>\n",
       "      <td>0.000000</td>\n",
       "      <td>0.000000</td>\n",
       "      <td>0.000287</td>\n",
       "      <td>0.000236</td>\n",
       "      <td>negative</td>\n",
       "      <td>train</td>\n",
       "    </tr>\n",
       "    <tr>\n",
       "      <th>5061</th>\n",
       "      <td>ffd91a2c4ca0.jpg</td>\n",
       "      <td>0.000000</td>\n",
       "      <td>0.000000</td>\n",
       "      <td>0.000293</td>\n",
       "      <td>0.000357</td>\n",
       "      <td>negative</td>\n",
       "      <td>train</td>\n",
       "    </tr>\n",
       "    <tr>\n",
       "      <th>5062</th>\n",
       "      <td>ffd9b6cf2961.jpg</td>\n",
       "      <td>0.231886</td>\n",
       "      <td>0.302378</td>\n",
       "      <td>0.360457</td>\n",
       "      <td>0.657984</td>\n",
       "      <td>typical</td>\n",
       "      <td>train</td>\n",
       "    </tr>\n",
       "    <tr>\n",
       "      <th>5063</th>\n",
       "      <td>ffdc682f7680.jpg</td>\n",
       "      <td>0.236328</td>\n",
       "      <td>0.454323</td>\n",
       "      <td>0.391927</td>\n",
       "      <td>0.676752</td>\n",
       "      <td>typical</td>\n",
       "      <td>train</td>\n",
       "    </tr>\n",
       "    <tr>\n",
       "      <th>5064</th>\n",
       "      <td>ffe942c8655f.jpg</td>\n",
       "      <td>0.544719</td>\n",
       "      <td>0.126606</td>\n",
       "      <td>0.853204</td>\n",
       "      <td>0.607098</td>\n",
       "      <td>typical</td>\n",
       "      <td>train</td>\n",
       "    </tr>\n",
       "  </tbody>\n",
       "</table>\n",
       "<p>5065 rows × 7 columns</p>\n",
       "</div>"
      ],
      "text/plain": [
       "                    id      xmin      ymin  ...      ymax          class  split\n",
       "0     000c3a3f293f.jpg  0.000000  0.000000  ...  0.000431       negative  train\n",
       "1     0012ff7358bc.jpg  0.586613  0.158236  ...  0.631647        typical  train\n",
       "2     001bd15d1891.jpg  0.756622  0.356667  ...  0.756667        typical  train\n",
       "3     0022227f5adf.jpg  0.608920  0.200199  ...  0.357556  indeterminate  train\n",
       "4     002e9b2128d0.jpg  0.649089  0.308455  ...  0.943843        typical  train\n",
       "...                ...       ...       ...  ...       ...            ...    ...\n",
       "5060  ffcc6edd9445.jpg  0.000000  0.000000  ...  0.000236       negative  train\n",
       "5061  ffd91a2c4ca0.jpg  0.000000  0.000000  ...  0.000357       negative  train\n",
       "5062  ffd9b6cf2961.jpg  0.231886  0.302378  ...  0.657984        typical  train\n",
       "5063  ffdc682f7680.jpg  0.236328  0.454323  ...  0.676752        typical  train\n",
       "5064  ffe942c8655f.jpg  0.544719  0.126606  ...  0.607098        typical  train\n",
       "\n",
       "[5065 rows x 7 columns]"
      ]
     },
     "execution_count": 12,
     "metadata": {
      "tags": []
     },
     "output_type": "execute_result"
    }
   ],
   "source": [
    "train_df"
   ]
  },
  {
   "cell_type": "code",
   "execution_count": null,
   "metadata": {
    "id": "nFD4Ukl2oknZ"
   },
   "outputs": [],
   "source": [
    "val_df = train_result_final.loc[train_result_final['split'] == 'val'].reset_index(drop=True)"
   ]
  },
  {
   "cell_type": "code",
   "execution_count": null,
   "metadata": {
    "colab": {
     "base_uri": "https://localhost:8080/",
     "height": 424
    },
    "id": "Wxelvl3dDpVJ",
    "outputId": "a4d1d25c-a1ea-44e2-e857-d2b3783214f2"
   },
   "outputs": [
    {
     "data": {
      "text/html": [
       "<div>\n",
       "<style scoped>\n",
       "    .dataframe tbody tr th:only-of-type {\n",
       "        vertical-align: middle;\n",
       "    }\n",
       "\n",
       "    .dataframe tbody tr th {\n",
       "        vertical-align: top;\n",
       "    }\n",
       "\n",
       "    .dataframe thead th {\n",
       "        text-align: right;\n",
       "    }\n",
       "</style>\n",
       "<table border=\"1\" class=\"dataframe\">\n",
       "  <thead>\n",
       "    <tr style=\"text-align: right;\">\n",
       "      <th></th>\n",
       "      <th>id</th>\n",
       "      <th>xmin</th>\n",
       "      <th>ymin</th>\n",
       "      <th>xmax</th>\n",
       "      <th>ymax</th>\n",
       "      <th>class</th>\n",
       "      <th>split</th>\n",
       "    </tr>\n",
       "  </thead>\n",
       "  <tbody>\n",
       "    <tr>\n",
       "      <th>0</th>\n",
       "      <td>000a312787f2.jpg</td>\n",
       "      <td>0.527705</td>\n",
       "      <td>0.169497</td>\n",
       "      <td>0.784909</td>\n",
       "      <td>0.674528</td>\n",
       "      <td>typical</td>\n",
       "      <td>val</td>\n",
       "    </tr>\n",
       "    <tr>\n",
       "      <th>1</th>\n",
       "      <td>001398f4ff4f.jpg</td>\n",
       "      <td>0.637617</td>\n",
       "      <td>0.619697</td>\n",
       "      <td>0.859112</td>\n",
       "      <td>0.791288</td>\n",
       "      <td>atypical</td>\n",
       "      <td>val</td>\n",
       "    </tr>\n",
       "    <tr>\n",
       "      <th>2</th>\n",
       "      <td>0023f02ae886.jpg</td>\n",
       "      <td>0.000000</td>\n",
       "      <td>0.000000</td>\n",
       "      <td>0.000351</td>\n",
       "      <td>0.000429</td>\n",
       "      <td>negative</td>\n",
       "      <td>val</td>\n",
       "    </tr>\n",
       "    <tr>\n",
       "      <th>3</th>\n",
       "      <td>007cf31356c6.jpg</td>\n",
       "      <td>0.152231</td>\n",
       "      <td>0.580000</td>\n",
       "      <td>0.448635</td>\n",
       "      <td>0.826667</td>\n",
       "      <td>typical</td>\n",
       "      <td>val</td>\n",
       "    </tr>\n",
       "    <tr>\n",
       "      <th>4</th>\n",
       "      <td>00b767b49fcd.jpg</td>\n",
       "      <td>0.627437</td>\n",
       "      <td>0.460000</td>\n",
       "      <td>0.886690</td>\n",
       "      <td>0.771667</td>\n",
       "      <td>typical</td>\n",
       "      <td>val</td>\n",
       "    </tr>\n",
       "    <tr>\n",
       "      <th>...</th>\n",
       "      <td>...</td>\n",
       "      <td>...</td>\n",
       "      <td>...</td>\n",
       "      <td>...</td>\n",
       "      <td>...</td>\n",
       "      <td>...</td>\n",
       "      <td>...</td>\n",
       "    </tr>\n",
       "    <tr>\n",
       "      <th>1264</th>\n",
       "      <td>ff0743bee789.jpg</td>\n",
       "      <td>0.000000</td>\n",
       "      <td>0.000000</td>\n",
       "      <td>0.000409</td>\n",
       "      <td>0.000498</td>\n",
       "      <td>negative</td>\n",
       "      <td>val</td>\n",
       "    </tr>\n",
       "    <tr>\n",
       "      <th>1265</th>\n",
       "      <td>ff339bf108b4.jpg</td>\n",
       "      <td>0.178519</td>\n",
       "      <td>0.623942</td>\n",
       "      <td>0.401121</td>\n",
       "      <td>0.822249</td>\n",
       "      <td>atypical</td>\n",
       "      <td>val</td>\n",
       "    </tr>\n",
       "    <tr>\n",
       "      <th>1266</th>\n",
       "      <td>ff9f10a24c27.jpg</td>\n",
       "      <td>0.000000</td>\n",
       "      <td>0.000000</td>\n",
       "      <td>0.000333</td>\n",
       "      <td>0.000333</td>\n",
       "      <td>negative</td>\n",
       "      <td>val</td>\n",
       "    </tr>\n",
       "    <tr>\n",
       "      <th>1267</th>\n",
       "      <td>ffbeafe30b77.jpg</td>\n",
       "      <td>0.202574</td>\n",
       "      <td>0.522942</td>\n",
       "      <td>0.330293</td>\n",
       "      <td>0.650286</td>\n",
       "      <td>typical</td>\n",
       "      <td>val</td>\n",
       "    </tr>\n",
       "    <tr>\n",
       "      <th>1268</th>\n",
       "      <td>ffcc16bbf428.jpg</td>\n",
       "      <td>0.172980</td>\n",
       "      <td>0.136946</td>\n",
       "      <td>0.308159</td>\n",
       "      <td>0.493596</td>\n",
       "      <td>typical</td>\n",
       "      <td>val</td>\n",
       "    </tr>\n",
       "  </tbody>\n",
       "</table>\n",
       "<p>1269 rows × 7 columns</p>\n",
       "</div>"
      ],
      "text/plain": [
       "                    id      xmin      ymin      xmax      ymax     class split\n",
       "0     000a312787f2.jpg  0.527705  0.169497  0.784909  0.674528   typical   val\n",
       "1     001398f4ff4f.jpg  0.637617  0.619697  0.859112  0.791288  atypical   val\n",
       "2     0023f02ae886.jpg  0.000000  0.000000  0.000351  0.000429  negative   val\n",
       "3     007cf31356c6.jpg  0.152231  0.580000  0.448635  0.826667   typical   val\n",
       "4     00b767b49fcd.jpg  0.627437  0.460000  0.886690  0.771667   typical   val\n",
       "...                ...       ...       ...       ...       ...       ...   ...\n",
       "1264  ff0743bee789.jpg  0.000000  0.000000  0.000409  0.000498  negative   val\n",
       "1265  ff339bf108b4.jpg  0.178519  0.623942  0.401121  0.822249  atypical   val\n",
       "1266  ff9f10a24c27.jpg  0.000000  0.000000  0.000333  0.000333  negative   val\n",
       "1267  ffbeafe30b77.jpg  0.202574  0.522942  0.330293  0.650286   typical   val\n",
       "1268  ffcc16bbf428.jpg  0.172980  0.136946  0.308159  0.493596   typical   val\n",
       "\n",
       "[1269 rows x 7 columns]"
      ]
     },
     "execution_count": 15,
     "metadata": {
      "tags": []
     },
     "output_type": "execute_result"
    }
   ],
   "source": [
    "val_df"
   ]
  },
  {
   "cell_type": "markdown",
   "metadata": {},
   "source": [
    "### Number and percentage of all classes"
   ]
  },
  {
   "cell_type": "code",
   "execution_count": null,
   "metadata": {},
   "outputs": [],
   "source": [
    "train_df_counts = train_df['class'].value_counts()"
   ]
  },
  {
   "cell_type": "code",
   "execution_count": null,
   "metadata": {},
   "outputs": [],
   "source": [
    "train_df_counts"
   ]
  },
  {
   "cell_type": "code",
   "execution_count": null,
   "metadata": {
    "colab": {
     "base_uri": "https://localhost:8080/"
    },
    "execution": {
     "iopub.execute_input": "2021-07-14T09:16:42.115975Z",
     "iopub.status.busy": "2021-07-14T09:16:42.115463Z",
     "iopub.status.idle": "2021-07-14T09:16:42.127050Z",
     "shell.execute_reply": "2021-07-14T09:16:42.126123Z",
     "shell.execute_reply.started": "2021-07-14T09:16:42.115938Z"
    },
    "id": "MlIuOe7JT6a0",
    "outputId": "f73e9a86-38bd-4670-a938-934ee17d3630"
   },
   "outputs": [
    {
     "data": {
      "text/plain": [
       "typical          47.473950\n",
       "negative         27.407641\n",
       "indeterminate    17.492895\n",
       "atypical          7.625513\n",
       "Name: class, dtype: float64"
      ]
     },
     "execution_count": 27,
     "metadata": {
      "tags": []
     },
     "output_type": "execute_result"
    }
   ],
   "source": [
    "train_result_final['class'].value_counts(normalize=True) * 100"
   ]
  },
  {
   "cell_type": "markdown",
   "metadata": {
    "id": "I5k2NylET6a1"
   },
   "source": [
    "typical          47.47 0x\n",
    "\n",
    "negative         27.40 2x\n",
    "\n",
    "indeterminate    17.49 3x\n",
    "\n",
    "atypical          7.62 6x"
   ]
  },
  {
   "cell_type": "markdown",
   "metadata": {},
   "source": [
    "### Size of augmented train dataset"
   ]
  },
  {
   "cell_type": "code",
   "execution_count": null,
   "metadata": {
    "id": "O0vKmUhHtsFL"
   },
   "outputs": [],
   "source": [
    "augmented_train_set_length = train_df_counts['typical'] + train_df_counts['negative'] * 2 + train_df_counts['indeterminate'] * 3 + train_df_counts['atypical'] * 6"
   ]
  },
  {
   "cell_type": "code",
   "execution_count": null,
   "metadata": {
    "colab": {
     "base_uri": "https://localhost:8080/"
    },
    "id": "rg6Wjo9So_-A",
    "outputId": "59f6785b-029f-4001-c983-7d2eb9fd4391"
   },
   "outputs": [
    {
     "data": {
      "text/plain": [
       "10155"
      ]
     },
     "execution_count": 24,
     "metadata": {
      "tags": []
     },
     "output_type": "execute_result"
    }
   ],
   "source": [
    "augmented_train_set_length"
   ]
  },
  {
   "cell_type": "code",
   "execution_count": null,
   "metadata": {
    "execution": {
     "iopub.execute_input": "2021-07-14T09:16:42.103617Z",
     "iopub.status.busy": "2021-07-14T09:16:42.103264Z",
     "iopub.status.idle": "2021-07-14T09:16:42.113762Z",
     "shell.execute_reply": "2021-07-14T09:16:42.112811Z",
     "shell.execute_reply.started": "2021-07-14T09:16:42.103580Z"
    },
    "id": "BdFLeNaET6ay"
   },
   "outputs": [],
   "source": [
    "def get_list_of_files(dirname):\n",
    "    list_of_files = os.listdir(dirname)\n",
    "    all_files = []\n",
    "    for file in list_of_files:\n",
    "        full_path = os.path.join(dirname, file)\n",
    "        all_files.append(full_path)        \n",
    "    return all_files"
   ]
  },
  {
   "cell_type": "code",
   "execution_count": null,
   "metadata": {
    "colab": {
     "base_uri": "https://localhost:8080/"
    },
    "id": "Z2GkO2RQzAiK",
    "outputId": "69bd1dfa-8c88-4ed1-f471-ea2bd37222bb"
   },
   "outputs": [
    {
     "data": {
      "text/plain": [
       "386"
      ]
     },
     "execution_count": 26,
     "metadata": {
      "tags": []
     },
     "output_type": "execute_result"
    }
   ],
   "source": [
    "len(get_list_of_files('./train/atypical/'))"
   ]
  },
  {
   "cell_type": "markdown",
   "metadata": {},
   "source": [
    "### Testing augmentations"
   ]
  },
  {
   "cell_type": "code",
   "execution_count": null,
   "metadata": {
    "id": "x4dYtLJRAyeA"
   },
   "outputs": [],
   "source": [
    "def preprocess_image(filepath):\n",
    "    image_1d = cv2.imread(filepath)\n",
    "    image_3d = cv2.cvtColor(image_1d, cv2.COLOR_BGR2RGB)\n",
    "    image_arr = np.float32(image_3d)\n",
    "    image_arr /= 255.0\n",
    "    return image_arr"
   ]
  },
  {
   "cell_type": "code",
   "execution_count": null,
   "metadata": {
    "id": "Ob2-FGBQAzRL"
   },
   "outputs": [],
   "source": [
    "image = preprocess_image(atypical_images[4])"
   ]
  },
  {
   "cell_type": "code",
   "execution_count": null,
   "metadata": {
    "colab": {
     "base_uri": "https://localhost:8080/",
     "height": 287
    },
    "id": "MzjEVhsEA5nH",
    "outputId": "0055e1cf-1f1a-4e6d-f9f4-78a06be30d7c"
   },
   "outputs": [
    {
     "data": {
      "text/plain": [
       "<matplotlib.image.AxesImage at 0x7ff0a0419cd0>"
      ]
     },
     "execution_count": 54,
     "metadata": {
      "tags": []
     },
     "output_type": "execute_result"
    },
    {
     "data": {
      "image/png": "[encoded data removed]",
      "text/plain": [
       "<Figure size 432x288 with 1 Axes>"
      ]
     },
     "metadata": {
      "needs_background": "light",
      "tags": []
     },
     "output_type": "display_data"
    }
   ],
   "source": [
    "plt.imshow(image)"
   ]
  },
  {
   "cell_type": "code",
   "execution_count": null,
   "metadata": {
    "colab": {
     "base_uri": "https://localhost:8080/",
     "height": 287
    },
    "id": "xbHYmB4w7ga8",
    "outputId": "e020401c-4475-4c8b-90e3-30a567332cb7"
   },
   "outputs": [
    {
     "data": {
      "text/plain": [
       "<matplotlib.image.AxesImage at 0x7ff09f67a6d0>"
      ]
     },
     "execution_count": 55,
     "metadata": {
      "tags": []
     },
     "output_type": "execute_result"
    },
    {
     "data": {
      "image/png": "[encoded data removed]",
      "text/plain": [
       "<Figure size 432x288 with 1 Axes>"
      ]
     },
     "metadata": {
      "needs_background": "light",
      "tags": []
     },
     "output_type": "display_data"
    }
   ],
   "source": [
    "image_scaled = scale_function_07(image=image, bboxes=bbox_2d, class_labels=class_labels)['image']\n",
    "\n",
    "plt.imshow(image_scaled)"
   ]
  },
  {
   "cell_type": "code",
   "execution_count": null,
   "metadata": {
    "colab": {
     "base_uri": "https://localhost:8080/",
     "height": 287
    },
    "id": "5eaOuiHJ7hxm",
    "outputId": "36985a16-6bb0-4ad5-de90-8f524253ca98"
   },
   "outputs": [
    {
     "data": {
      "text/plain": [
       "<matplotlib.image.AxesImage at 0x7ff09f089890>"
      ]
     },
     "execution_count": 57,
     "metadata": {
      "tags": []
     },
     "output_type": "execute_result"
    },
    {
     "data": {
      "image/png": "[encoded data removed]",
      "text/plain": [
       "<Figure size 432x288 with 1 Axes>"
      ]
     },
     "metadata": {
      "needs_background": "light",
      "tags": []
     },
     "output_type": "display_data"
    }
   ],
   "source": [
    "sheared_image = shear_function(image=image, bboxes=bbox_2d, class_labels=class_labels)['image']\n",
    "\n",
    "plt.imshow(sheared_image)"
   ]
  },
  {
   "cell_type": "code",
   "execution_count": null,
   "metadata": {
    "colab": {
     "base_uri": "https://localhost:8080/",
     "height": 287
    },
    "id": "a-CI4KQr7k2_",
    "outputId": "ec2594b9-5563-4dbd-b7f5-372b0e0c8bc6"
   },
   "outputs": [
    {
     "data": {
      "text/plain": [
       "<matplotlib.image.AxesImage at 0x7ff0a0451150>"
      ]
     },
     "execution_count": 58,
     "metadata": {
      "tags": []
     },
     "output_type": "execute_result"
    },
    {
     "data": {
      "image/png": "[encoded data removed]",
      "text/plain": [
       "<Figure size 432x288 with 1 Axes>"
      ]
     },
     "metadata": {
      "needs_background": "light",
      "tags": []
     },
     "output_type": "display_data"
    }
   ],
   "source": [
    "flipped_image = horizontal_flip_function(image=image, bboxes=bbox_2d, class_labels=class_labels)['image']\n",
    "\n",
    "plt.imshow(flipped_image)"
   ]
  },
  {
   "cell_type": "code",
   "execution_count": null,
   "metadata": {
    "colab": {
     "base_uri": "https://localhost:8080/",
     "height": 287
    },
    "id": "0PMFGkWb7rw4",
    "outputId": "bb5ac4a6-1186-4b89-c232-dd053a49f4d9"
   },
   "outputs": [
    {
     "data": {
      "text/plain": [
       "<matplotlib.image.AxesImage at 0x7ff0a064cb50>"
      ]
     },
     "execution_count": 60,
     "metadata": {
      "tags": []
     },
     "output_type": "execute_result"
    },
    {
     "data": {
      "image/png": "[encoded data removed]",
      "text/plain": [
       "<Figure size 432x288 with 1 Axes>"
      ]
     },
     "metadata": {
      "needs_background": "light",
      "tags": []
     },
     "output_type": "display_data"
    }
   ],
   "source": [
    "brightness_contrast_image = brightness_contrast_function(image=image, bboxes=bbox_2d, class_labels=class_labels)['image']\n",
    "\n",
    "plt.imshow(brightness_contrast_image)"
   ]
  },
  {
   "cell_type": "markdown",
   "metadata": {
    "id": "kI6fMZ7SHteF"
   },
   "source": [
    "### End of testing section"
   ]
  },
  {
   "cell_type": "markdown",
   "metadata": {
    "id": "dVBK2ErRHrkf"
   },
   "source": [
    "### Real code"
   ]
  },
  {
   "cell_type": "markdown",
   "metadata": {
    "id": "zIerblakT6a3"
   },
   "source": [
    "#### We have to perform 1, 2 and 5 augmentations for negative, indeterminate, atypical classes"
   ]
  },
  {
   "cell_type": "code",
   "execution_count": null,
   "metadata": {
    "execution": {
     "iopub.execute_input": "2021-07-14T09:16:42.136735Z",
     "iopub.status.busy": "2021-07-14T09:16:42.136364Z",
     "iopub.status.idle": "2021-07-14T09:16:42.151868Z",
     "shell.execute_reply": "2021-07-14T09:16:42.150985Z",
     "shell.execute_reply.started": "2021-07-14T09:16:42.136698Z"
    },
    "id": "o0HtLPBeT6a4"
   },
   "outputs": [],
   "source": [
    "bbox_params = A.BboxParams(format='albumentations', min_area=1024, min_visibility=0.5, label_fields=['class_labels'])\n",
    "\n",
    "scale_function_07 = A.Compose([A.Affine(scale=0.8, p=1)], bbox_params=bbox_params)\n",
    "scale_move_shear_function = A.Compose([A.Affine(scale=0.95, translate_percent=-0.1, shear=-10, p=1)], bbox_params=bbox_params)\n",
    "shear_function = A.Compose([A.Affine(shear=20, p=1)], bbox_params=bbox_params)\n",
    "brightness_contrast_function = A.Compose([A.RandomBrightnessContrast(p=1)], bbox_params=bbox_params)\n",
    "horizontal_flip_function = A.Compose([A.HorizontalFlip(p=1)], bbox_params=bbox_params)\n",
    "\n",
    "augmentations = [\"scale_function_07\", \"horizontal_flip_function\", \"brightness_contrast_function\", \"shear_function\", \"scale_move_shear_function\"]\n",
    "\n",
    "def preprocess_image(filepath):\n",
    "    image_1d = cv2.imread(filepath)\n",
    "    image_3d = cv2.cvtColor(image_1d, cv2.COLOR_BGR2RGB)\n",
    "    image_arr = np.float32(image_3d)\n",
    "    image_arr /= 255.0\n",
    "    return image_arr\n",
    "\n",
    "def augment_images_a_num_of_times(function_str, image_arr, bbox, class_labels):\n",
    "    augmented_image_dict = globals()[function_str](image=image_arr, bboxes=bbox, class_labels=class_labels)\n",
    "#         print(augmented_image_dict)\n",
    "    augmented_image = augmented_image_dict['image']\n",
    "    # If after augmentations our bboxes is outside of the new iamge's boundaries, \n",
    "    # we assign it to the negative class (i.e. no opacities are seen within augmented image)\n",
    "    if augmented_image_dict['bboxes']:\n",
    "        xmin, ymin, xmax, ymax = augmented_image_dict['bboxes'][0]\n",
    "        augmented_label = augmented_image_dict['class_labels'][0]\n",
    "    else:\n",
    "        xmin, ymin, xmax, ymax = 0, 0, 1/256.0, 1/256.0\n",
    "        augmented_label = 'negative'\n",
    "    \n",
    "    # Improve this!!!\n",
    "    if class_labels[0] == 'negative':\n",
    "        xmin, ymin, xmax, ymax = 0, 0, 1/256.0, 1/256.0\n",
    "        augmented_label = 'negative'\n",
    "\n",
    "    augmented_label = np.array([augmented_label], dtype='<U16')\n",
    "    augmented_bbox = np.array([xmin, ymin, xmax, ymax], dtype=np.float32)\n",
    "\n",
    "    return augmented_image, augmented_bbox, augmented_label"
   ]
  },
  {
   "cell_type": "code",
   "execution_count": null,
   "metadata": {
    "colab": {
     "base_uri": "https://localhost:8080/"
    },
    "id": "cmPCwPiU8EDE",
    "outputId": "f9e3567e-9478-4d06-f62a-8328adb9b9d9"
   },
   "outputs": [
    {
     "data": {
      "text/plain": [
       "5065"
      ]
     },
     "execution_count": 22,
     "metadata": {
      "tags": []
     },
     "output_type": "execute_result"
    }
   ],
   "source": [
    "len(train_df.index)"
   ]
  },
  {
   "cell_type": "code",
   "execution_count": null,
   "metadata": {
    "id": "8_sDzswNbyt8"
   },
   "outputs": [],
   "source": [
    "classes_to_augments_dict = {'negative': 2, 'indeterminate': 3, 'atypical': 6}\n",
    "\n",
    "augmented_train_set_length = train_df_counts['typical']\n",
    "for key, value in classes_to_augments_dict.items():\n",
    "  augmented_train_set_length += train_df_counts[key] * value\n",
    "\n",
    "train_images = np.empty((augmented_train_set_length, 256, 256, 3), dtype=\"float32\")\n",
    "train_bboxes = np.empty((augmented_train_set_length, 4), dtype=\"float32\")\n",
    "train_labels = np.empty((augmented_train_set_length, 1), dtype='<U16')\n",
    "train_images_augment_functions = np.empty((augmented_train_set_length, 1), dtype='<U32')\n",
    "\n",
    "val_images = np.empty((len(val_filenames), 256, 256, 3), dtype=\"float32\")\n",
    "val_bboxes = np.empty((len(val_filenames), 4), dtype=\"float32\")\n",
    "val_labels = np.empty((len(val_filenames), 1), dtype='<U16')\n",
    "\n",
    "splits_to_lists_mapping = {'train': [train_images, train_bboxes, train_labels], 'val': [val_images, val_bboxes, val_labels]}\n",
    "\n",
    "def create_dataset(df):\n",
    "  df_len = len(df.index)\n",
    "  prev_ind = df_len\n",
    "  for ind, row in df.iterrows():\n",
    "      row = row.values\n",
    "      filename = row[0]\n",
    "      xmin = row[1]\n",
    "      ymin = row[2]\n",
    "      xmax = row[3]\n",
    "      ymax = row[4]\n",
    "      label = row[5]\n",
    "      split = row[6]\n",
    "      filepath = os.path.join('.', split, label, filename)\n",
    "      image = preprocess_image(filepath)\n",
    "      bbox = np.array([xmin, ymin, xmax, ymax], dtype=np.float32)\n",
    "\n",
    "      # Adding original (non-augmented) images from both splits to the dataset\n",
    "      splits_to_lists_mapping[split][0][ind, :, :, :] = image\n",
    "      splits_to_lists_mapping[split][1][ind, :] = bbox\n",
    "      splits_to_lists_mapping[split][2][ind, :] = label\n",
    "\n",
    "      if label == 'typical':\n",
    "        continue\n",
    "      # Adding augmented train images from small labels lists\n",
    "      if split == 'train':\n",
    "        if label == 'typical':\n",
    "        increase_coeff = classes_to_augments_dict[label]\n",
    "        for i in range(increase_coeff-1):\n",
    "          # We must feed Python lists to the augemnt functions because we check for truethy/falsy of bbox list and it's not possible with np arrays. \n",
    "          # we then convert them into numpy arrays in the functions themselves. \n",
    "          class_labels = [label]\n",
    "          bbox_2d = []\n",
    "          bbox_2d.append(bbox)\n",
    "          augmented_image, augmented_bbox, augmented_label = augment_images_a_num_of_times(augmentations[i], image, bbox_2d, class_labels)\n",
    "          splits_to_lists_mapping[split][0][prev_ind+i, :, :, :] = augmented_image\n",
    "          splits_to_lists_mapping[split][1][prev_ind+i, :] = augmented_bbox\n",
    "          splits_to_lists_mapping[split][2][prev_ind+i, :] = augmented_label\n",
    "          train_images_augment_functions[prev_ind+i, :] = (filename + '_' + augmentations[i].split('_function')[0])\n",
    "        prev_ind += (i+1)"
   ]
  },
  {
   "cell_type": "code",
   "execution_count": null,
   "metadata": {
    "colab": {
     "base_uri": "https://localhost:8080/"
    },
    "id": "qSSmSSHwH5n2",
    "outputId": "9c80f119-afe7-400e-d800-c12b11c5d1bd"
   },
   "outputs": [
    {
     "name": "stdout",
     "output_type": "stream",
     "text": [
      "Took 12.6 seconds\n"
     ]
    }
   ],
   "source": [
    "start_time = time.time()\n",
    "create_dataset(train_df)\n",
    "print(f\"Took {(time.time() - start_time):.3} seconds\")"
   ]
  },
  {
   "cell_type": "code",
   "execution_count": null,
   "metadata": {
    "colab": {
     "base_uri": "https://localhost:8080/"
    },
    "id": "tD5R3V4uH5fk",
    "outputId": "672656d4-9237-403a-8e2f-3cbfee6a0112"
   },
   "outputs": [
    {
     "name": "stdout",
     "output_type": "stream",
     "text": [
      "Took 1.37 seconds\n"
     ]
    }
   ],
   "source": [
    "start_time = time.time()\n",
    "create_dataset(val_df)\n",
    "print(f\"Took {(time.time() - start_time):.3} seconds\")"
   ]
  },
  {
   "cell_type": "code",
   "execution_count": null,
   "metadata": {
    "colab": {
     "base_uri": "https://localhost:8080/"
    },
    "id": "VyNZ2cnPPS1s",
    "outputId": "765422eb-5658-4e16-ab0c-c06b933bee3e"
   },
   "outputs": [
    {
     "data": {
      "text/plain": [
       "array(['negative'], dtype='<U16')"
      ]
     },
     "execution_count": 32,
     "metadata": {
      "tags": []
     },
     "output_type": "execute_result"
    }
   ],
   "source": [
    "train_labels[0]"
   ]
  },
  {
   "cell_type": "markdown",
   "metadata": {},
   "source": [
    "#### Check if all labels are correctly added (without empty strings)"
   ]
  },
  {
   "cell_type": "code",
   "execution_count": null,
   "metadata": {
    "id": "lRaFflFPJQqA"
   },
   "outputs": [],
   "source": [
    "i = 0\n",
    "train_labels_list = train_labels.tolist()\n",
    "for ind, lbl in enumerate(train_labels_list):\n",
    "  if lbl == ['']:\n",
    "    print(ind)"
   ]
  },
  {
   "cell_type": "code",
   "execution_count": null,
   "metadata": {
    "colab": {
     "base_uri": "https://localhost:8080/",
     "height": 287
    },
    "id": "CDzX4P9UIsY5",
    "outputId": "f8e85048-976d-4673-ae26-04c76e2a7ea1"
   },
   "outputs": [
    {
     "data": {
      "text/plain": [
       "<matplotlib.image.AxesImage at 0x7f8de2e3f310>"
      ]
     },
     "execution_count": 35,
     "metadata": {
      "tags": []
     },
     "output_type": "execute_result"
    },
    {
     "data": {
      "image/png": "[encoded data removed]",
      "text/plain": [
       "<Figure size 432x288 with 1 Axes>"
      ]
     },
     "metadata": {
      "needs_background": "light",
      "tags": []
     },
     "output_type": "display_data"
    }
   ],
   "source": [
    "plt.imshow(train_images[5069])"
   ]
  },
  {
   "cell_type": "markdown",
   "metadata": {
    "id": "xsR4SJdwIsR5"
   },
   "source": [
    "### One-hot encode labels "
   ]
  },
  {
   "cell_type": "code",
   "execution_count": null,
   "metadata": {
    "execution": {
     "iopub.execute_input": "2021-07-14T09:17:00.101230Z",
     "iopub.status.busy": "2021-07-14T09:17:00.100559Z",
     "iopub.status.idle": "2021-07-14T09:17:00.141160Z",
     "shell.execute_reply": "2021-07-14T09:17:00.140344Z",
     "shell.execute_reply.started": "2021-07-14T09:17:00.101177Z"
    },
    "id": "1qrslVu6T6a5"
   },
   "outputs": [],
   "source": [
    "lb = LabelBinarizer()\n",
    "lb.fit([\"negative\", \"typical\", \"indeterminate\", \"atypical\"])\n",
    "train_labels_onehot = lb.transform(train_labels)     \n",
    "val_labels_onehot = lb.transform(val_labels)     "
   ]
  },
  {
   "cell_type": "code",
   "execution_count": null,
   "metadata": {
    "colab": {
     "base_uri": "https://localhost:8080/"
    },
    "id": "AVh289TMW7S4",
    "outputId": "ae5c1460-b5d0-40ac-a8eb-1eb3bef9c695"
   },
   "outputs": [
    {
     "data": {
      "text/plain": [
       "array([0, 0, 1, 0])"
      ]
     },
     "execution_count": 66,
     "metadata": {
      "tags": []
     },
     "output_type": "execute_result"
    }
   ],
   "source": [
    "train_labels_onehot[0]"
   ]
  },
  {
   "cell_type": "code",
   "execution_count": null,
   "metadata": {
    "colab": {
     "base_uri": "https://localhost:8080/"
    },
    "id": "4x3NoB3YW60d",
    "outputId": "3beddc7b-f0dd-410e-ea3b-838cea9df54f"
   },
   "outputs": [
    {
     "data": {
      "text/plain": [
       "array([0, 0, 0, 1])"
      ]
     },
     "execution_count": 67,
     "metadata": {
      "tags": []
     },
     "output_type": "execute_result"
    }
   ],
   "source": [
    "val_labels_onehot[0]"
   ]
  },
  {
   "cell_type": "markdown",
   "metadata": {
    "id": "GKakmdfVT6a5"
   },
   "source": [
    "## Create model"
   ]
  },
  {
   "cell_type": "code",
   "execution_count": null,
   "metadata": {
    "execution": {
     "iopub.execute_input": "2021-07-14T09:17:00.150631Z",
     "iopub.status.busy": "2021-07-14T09:17:00.150247Z",
     "iopub.status.idle": "2021-07-14T09:17:02.154212Z",
     "shell.execute_reply": "2021-07-14T09:17:02.153332Z",
     "shell.execute_reply.started": "2021-07-14T09:17:00.150593Z"
    },
    "id": "ZZ1m_6oPT6a5"
   },
   "outputs": [],
   "source": [
    "base_model = tf.keras.models.Sequential([\n",
    "    Conv2D(32, (3, 3), activation='relu', input_shape=(256, 256, 3)),\n",
    "    MaxPooling2D(2, 2),\n",
    "    Conv2D(64, (3, 3), activation='relu'),\n",
    "    MaxPooling2D(2, 2),\n",
    "    Conv2D(128, (3, 3), activation='relu'),\n",
    "    BatchNormalization(),\n",
    "    MaxPooling2D(2, 2),\n",
    "    Conv2D(256, (3, 3), activation='relu'),\n",
    "    MaxPooling2D(2, 2)\n",
    "])\n",
    "\n",
    "flatten = base_model.output\n",
    "flatten = Flatten()(flatten)\n",
    "\n",
    "# add dense layers header to predict bounding box coordinates\n",
    "bbox_head = Dense(128, activation=\"relu\", kernel_regularizer=tf.keras.regularizers.l1_l2(l1=0.01, l2=0.01))(flatten)\n",
    "bbox_head = Dropout(0.5)(bbox_head)\n",
    "bbox_head = Dense(64, activation=\"relu\")(bbox_head)\n",
    "bbox_head = Dropout(0.5)(bbox_head)\n",
    "bbox_head = Dense(32, activation=\"relu\")(bbox_head)\n",
    "bbox_head = Dense(4, activation=\"sigmoid\", name=\"bounding_box\")(bbox_head)\n",
    "\n",
    "# bbox_head = Dense(512, activation=\"relu\", kernel_regularizer=tf.keras.regularizers.l1_l2(l1=0.01, l2=0.01))(flatten)\n",
    "# bbox_head = Dropout(0.5)(bbox_head)\n",
    "# bbox_head = Dense(512, activation=\"relu\")(bbox_head)\n",
    "# bbox_head = Dropout(0.5)(bbox_head)\n",
    "# bbox_head = Dense(4, activation=\"sigmoid\", name=\"bounding_box\")(bbox_head)\n",
    "\n",
    "# add dense layers header to predict class labels\n",
    "label_head = Dense(512, activation=\"relu\")(flatten)\n",
    "label_head = Dropout(0.5)(label_head)\n",
    "label_head = Dense(512, activation=\"relu\", kernel_regularizer=tf.keras.regularizers.l1_l2(l1=0.01, l2=0.01))(label_head)\n",
    "label_head = Dropout(0.5)(label_head)\n",
    "label_head = Dense(4, activation=\"softmax\", name=\"class_label\")(label_head)\n",
    "\n",
    "# accept an input image and output bounding box coordinates and class labels\n",
    "model = Model(inputs=base_model.input, outputs=(bbox_head, label_head))"
   ]
  },
  {
   "cell_type": "code",
   "execution_count": null,
   "metadata": {
    "execution": {
     "iopub.execute_input": "2021-07-14T09:17:02.155907Z",
     "iopub.status.busy": "2021-07-14T09:17:02.155549Z",
     "iopub.status.idle": "2021-07-14T09:17:02.174634Z",
     "shell.execute_reply": "2021-07-14T09:17:02.173693Z",
     "shell.execute_reply.started": "2021-07-14T09:17:02.155873Z"
    },
    "id": "OrZbQKmnT6a6"
   },
   "outputs": [],
   "source": [
    "# losses dictionary\n",
    "losses = {\"class_label\": \"categorical_crossentropy\", \"bounding_box\": \"mean_squared_error\",}\n",
    "\n",
    "# weights dictionary\n",
    "loss_weights = {\"class_label\": 1.0, \"bounding_box\": 1.0}\n",
    "\n",
    "opt = Adam(learning_rate=0.00001)\n",
    "model.compile(loss=losses, optimizer=opt, metrics=[\"accuracy\"], loss_weights=loss_weights)"
   ]
  },
  {
   "cell_type": "code",
   "execution_count": null,
   "metadata": {
    "execution": {
     "iopub.execute_input": "2021-07-14T09:17:02.176716Z",
     "iopub.status.busy": "2021-07-14T09:17:02.176182Z",
     "iopub.status.idle": "2021-07-14T09:17:02.182867Z",
     "shell.execute_reply": "2021-07-14T09:17:02.181626Z",
     "shell.execute_reply.started": "2021-07-14T09:17:02.176672Z"
    },
    "id": "iBZg20HPT6a6"
   },
   "outputs": [],
   "source": [
    "# train targets dictionary\n",
    "train_targets = {\"class_label\": train_labels_onehot, \"bounding_box\": train_bboxes}\n",
    "\n",
    "# validation targets dictionary\n",
    "val_targets = {\"class_label\": val_labels_onehot, \"bounding_box\": val_bboxes}"
   ]
  },
  {
   "cell_type": "code",
   "execution_count": null,
   "metadata": {
    "colab": {
     "base_uri": "https://localhost:8080/"
    },
    "id": "Bm2wkC9GYA1A",
    "outputId": "56702c11-f162-43eb-d57a-88c86773d28c"
   },
   "outputs": [
    {
     "data": {
      "text/plain": [
       "10155"
      ]
     },
     "execution_count": 85,
     "metadata": {
      "tags": []
     },
     "output_type": "execute_result"
    }
   ],
   "source": [
    "len(train_images)"
   ]
  },
  {
   "cell_type": "code",
   "execution_count": null,
   "metadata": {
    "colab": {
     "base_uri": "https://localhost:8080/"
    },
    "id": "ldkeU8pYX337",
    "outputId": "fe9a18b1-897e-4891-d369-cee5ba5dbbe3"
   },
   "outputs": [
    {
     "name": "stdout",
     "output_type": "stream",
     "text": [
      "Model: \"model_2\"\n",
      "__________________________________________________________________________________________________\n",
      "Layer (type)                    Output Shape         Param #     Connected to                     \n",
      "==================================================================================================\n",
      "input_2 (InputLayer)            [(None, 256, 256, 3) 0                                            \n",
      "__________________________________________________________________________________________________\n",
      "block1_conv1 (Conv2D)           (None, 256, 256, 64) 1792        input_2[0][0]                    \n",
      "__________________________________________________________________________________________________\n",
      "block1_conv2 (Conv2D)           (None, 256, 256, 64) 36928       block1_conv1[0][0]               \n",
      "__________________________________________________________________________________________________\n",
      "block1_pool (MaxPooling2D)      (None, 128, 128, 64) 0           block1_conv2[0][0]               \n",
      "__________________________________________________________________________________________________\n",
      "block2_conv1 (Conv2D)           (None, 128, 128, 128 73856       block1_pool[0][0]                \n",
      "__________________________________________________________________________________________________\n",
      "block2_conv2 (Conv2D)           (None, 128, 128, 128 147584      block2_conv1[0][0]               \n",
      "__________________________________________________________________________________________________\n",
      "block2_pool (MaxPooling2D)      (None, 64, 64, 128)  0           block2_conv2[0][0]               \n",
      "__________________________________________________________________________________________________\n",
      "block3_conv1 (Conv2D)           (None, 64, 64, 256)  295168      block2_pool[0][0]                \n",
      "__________________________________________________________________________________________________\n",
      "block3_conv2 (Conv2D)           (None, 64, 64, 256)  590080      block3_conv1[0][0]               \n",
      "__________________________________________________________________________________________________\n",
      "block3_conv3 (Conv2D)           (None, 64, 64, 256)  590080      block3_conv2[0][0]               \n",
      "__________________________________________________________________________________________________\n",
      "block3_conv4 (Conv2D)           (None, 64, 64, 256)  590080      block3_conv3[0][0]               \n",
      "__________________________________________________________________________________________________\n",
      "block3_pool (MaxPooling2D)      (None, 32, 32, 256)  0           block3_conv4[0][0]               \n",
      "__________________________________________________________________________________________________\n",
      "block4_conv1 (Conv2D)           (None, 32, 32, 512)  1180160     block3_pool[0][0]                \n",
      "__________________________________________________________________________________________________\n",
      "block4_conv2 (Conv2D)           (None, 32, 32, 512)  2359808     block4_conv1[0][0]               \n",
      "__________________________________________________________________________________________________\n",
      "block4_conv3 (Conv2D)           (None, 32, 32, 512)  2359808     block4_conv2[0][0]               \n",
      "__________________________________________________________________________________________________\n",
      "block4_conv4 (Conv2D)           (None, 32, 32, 512)  2359808     block4_conv3[0][0]               \n",
      "__________________________________________________________________________________________________\n",
      "block4_pool (MaxPooling2D)      (None, 16, 16, 512)  0           block4_conv4[0][0]               \n",
      "__________________________________________________________________________________________________\n",
      "block5_conv1 (Conv2D)           (None, 16, 16, 512)  2359808     block4_pool[0][0]                \n",
      "__________________________________________________________________________________________________\n",
      "block5_conv2 (Conv2D)           (None, 16, 16, 512)  2359808     block5_conv1[0][0]               \n",
      "__________________________________________________________________________________________________\n",
      "block5_conv3 (Conv2D)           (None, 16, 16, 512)  2359808     block5_conv2[0][0]               \n",
      "__________________________________________________________________________________________________\n",
      "block5_conv4 (Conv2D)           (None, 16, 16, 512)  2359808     block5_conv3[0][0]               \n",
      "__________________________________________________________________________________________________\n",
      "block5_pool (MaxPooling2D)      (None, 8, 8, 512)    0           block5_conv4[0][0]               \n",
      "__________________________________________________________________________________________________\n",
      "flatten_2 (Flatten)             (None, 32768)        0           block5_pool[0][0]                \n",
      "__________________________________________________________________________________________________\n",
      "dense_13 (Dense)                (None, 128)          4194432     flatten_2[0][0]                  \n",
      "__________________________________________________________________________________________________\n",
      "dense_10 (Dense)                (None, 128)          4194432     flatten_2[0][0]                  \n",
      "__________________________________________________________________________________________________\n",
      "dropout_6 (Dropout)             (None, 128)          0           dense_13[0][0]                   \n",
      "__________________________________________________________________________________________________\n",
      "dense_11 (Dense)                (None, 64)           8256        dense_10[0][0]                   \n",
      "__________________________________________________________________________________________________\n",
      "dense_14 (Dense)                (None, 64)           8256        dropout_6[0][0]                  \n",
      "__________________________________________________________________________________________________\n",
      "dense_12 (Dense)                (None, 32)           2080        dense_11[0][0]                   \n",
      "__________________________________________________________________________________________________\n",
      "dropout_7 (Dropout)             (None, 64)           0           dense_14[0][0]                   \n",
      "__________________________________________________________________________________________________\n",
      "bounding_box (Dense)            (None, 4)            132         dense_12[0][0]                   \n",
      "__________________________________________________________________________________________________\n",
      "class_label (Dense)             (None, 4)            260         dropout_7[0][0]                  \n",
      "==================================================================================================\n",
      "Total params: 28,432,232\n",
      "Trainable params: 8,407,848\n",
      "Non-trainable params: 20,024,384\n",
      "__________________________________________________________________________________________________\n"
     ]
    }
   ],
   "source": [
    "model.summary()"
   ]
  },
  {
   "cell_type": "code",
   "execution_count": null,
   "metadata": {
    "id": "6CTNpKAuee41"
   },
   "outputs": [],
   "source": [
    "callback = tf.keras.callbacks.EarlyStopping(monitor='val_class_label_accuracy', patience=3, restore_best_weights=True, verbose=1)"
   ]
  },
  {
   "cell_type": "code",
   "execution_count": null,
   "metadata": {
    "colab": {
     "base_uri": "https://localhost:8080/"
    },
    "execution": {
     "iopub.execute_input": "2021-07-14T09:17:02.185210Z",
     "iopub.status.busy": "2021-07-14T09:17:02.184699Z"
    },
    "id": "4qr0NbEST6a6",
    "outputId": "4295febb-d18c-42c6-d448-afc8584777da"
   },
   "outputs": [
    {
     "name": "stdout",
     "output_type": "stream",
     "text": [
      "Epoch 1/20\n",
      "635/635 [==============================] - 73s 113ms/step - loss: 1.4319 - bounding_box_loss: 0.0838 - class_label_loss: 1.3482 - bounding_box_accuracy: 0.4587 - class_label_accuracy: 0.3412 - val_loss: 1.3504 - val_bounding_box_loss: 0.0835 - val_class_label_loss: 1.2669 - val_bounding_box_accuracy: 0.5847 - val_class_label_accuracy: 0.5138\n",
      "Epoch 2/20\n",
      "635/635 [==============================] - 72s 113ms/step - loss: 1.3502 - bounding_box_loss: 0.0768 - class_label_loss: 1.2734 - bounding_box_accuracy: 0.4799 - class_label_accuracy: 0.3999 - val_loss: 1.3293 - val_bounding_box_loss: 0.0806 - val_class_label_loss: 1.2487 - val_bounding_box_accuracy: 0.5823 - val_class_label_accuracy: 0.5256\n",
      "Epoch 3/20\n",
      "635/635 [==============================] - 72s 114ms/step - loss: 1.3240 - bounding_box_loss: 0.0742 - class_label_loss: 1.2498 - bounding_box_accuracy: 0.4978 - class_label_accuracy: 0.4225 - val_loss: 1.3021 - val_bounding_box_loss: 0.0792 - val_class_label_loss: 1.2228 - val_bounding_box_accuracy: 0.5477 - val_class_label_accuracy: 0.5437\n",
      "Epoch 4/20\n",
      "635/635 [==============================] - 72s 114ms/step - loss: 1.3056 - bounding_box_loss: 0.0729 - class_label_loss: 1.2327 - bounding_box_accuracy: 0.5207 - class_label_accuracy: 0.4443 - val_loss: 1.3402 - val_bounding_box_loss: 0.0803 - val_class_label_loss: 1.2599 - val_bounding_box_accuracy: 0.5965 - val_class_label_accuracy: 0.5169\n",
      "Epoch 5/20\n",
      "635/635 [==============================] - 72s 114ms/step - loss: 1.2858 - bounding_box_loss: 0.0713 - class_label_loss: 1.2145 - bounding_box_accuracy: 0.5205 - class_label_accuracy: 0.4527 - val_loss: 1.2934 - val_bounding_box_loss: 0.0800 - val_class_label_loss: 1.2134 - val_bounding_box_accuracy: 0.6076 - val_class_label_accuracy: 0.5508\n",
      "Epoch 6/20\n",
      "635/635 [==============================] - 72s 114ms/step - loss: 1.2745 - bounding_box_loss: 0.0700 - class_label_loss: 1.2045 - bounding_box_accuracy: 0.5245 - class_label_accuracy: 0.4700 - val_loss: 1.2729 - val_bounding_box_loss: 0.0778 - val_class_label_loss: 1.1951 - val_bounding_box_accuracy: 0.6060 - val_class_label_accuracy: 0.5556\n",
      "Epoch 7/20\n",
      "635/635 [==============================] - 72s 114ms/step - loss: 1.2562 - bounding_box_loss: 0.0686 - class_label_loss: 1.1876 - bounding_box_accuracy: 0.5240 - class_label_accuracy: 0.4752 - val_loss: 1.2977 - val_bounding_box_loss: 0.0794 - val_class_label_loss: 1.2183 - val_bounding_box_accuracy: 0.5926 - val_class_label_accuracy: 0.5469\n",
      "Epoch 8/20\n",
      "635/635 [==============================] - 72s 114ms/step - loss: 1.2449 - bounding_box_loss: 0.0672 - class_label_loss: 1.1777 - bounding_box_accuracy: 0.5301 - class_label_accuracy: 0.4798 - val_loss: 1.2464 - val_bounding_box_loss: 0.0821 - val_class_label_loss: 1.1643 - val_bounding_box_accuracy: 0.5950 - val_class_label_accuracy: 0.5650\n",
      "Epoch 9/20\n",
      "635/635 [==============================] - 72s 114ms/step - loss: 1.2289 - bounding_box_loss: 0.0663 - class_label_loss: 1.1626 - bounding_box_accuracy: 0.5339 - class_label_accuracy: 0.4974 - val_loss: 1.2562 - val_bounding_box_loss: 0.0771 - val_class_label_loss: 1.1790 - val_bounding_box_accuracy: 0.5626 - val_class_label_accuracy: 0.5619\n",
      "Epoch 10/20\n",
      "635/635 [==============================] - 72s 114ms/step - loss: 1.2231 - bounding_box_loss: 0.0652 - class_label_loss: 1.1579 - bounding_box_accuracy: 0.5309 - class_label_accuracy: 0.4991 - val_loss: 1.2527 - val_bounding_box_loss: 0.0798 - val_class_label_loss: 1.1729 - val_bounding_box_accuracy: 0.5934 - val_class_label_accuracy: 0.5650\n",
      "Epoch 11/20\n",
      "635/635 [==============================] - 72s 114ms/step - loss: 1.2134 - bounding_box_loss: 0.0641 - class_label_loss: 1.1493 - bounding_box_accuracy: 0.5433 - class_label_accuracy: 0.5037 - val_loss: 1.2189 - val_bounding_box_loss: 0.0790 - val_class_label_loss: 1.1399 - val_bounding_box_accuracy: 0.5957 - val_class_label_accuracy: 0.5729\n",
      "Epoch 12/20\n",
      "635/635 [==============================] - 72s 114ms/step - loss: 1.1995 - bounding_box_loss: 0.0634 - class_label_loss: 1.1361 - bounding_box_accuracy: 0.5474 - class_label_accuracy: 0.5114 - val_loss: 1.2569 - val_bounding_box_loss: 0.0778 - val_class_label_loss: 1.1791 - val_bounding_box_accuracy: 0.5823 - val_class_label_accuracy: 0.5658\n",
      "Epoch 13/20\n",
      "635/635 [==============================] - 72s 114ms/step - loss: 1.1932 - bounding_box_loss: 0.0621 - class_label_loss: 1.1311 - bounding_box_accuracy: 0.5378 - class_label_accuracy: 0.5143 - val_loss: 1.2270 - val_bounding_box_loss: 0.0772 - val_class_label_loss: 1.1498 - val_bounding_box_accuracy: 0.5626 - val_class_label_accuracy: 0.5666\n",
      "Epoch 14/20\n",
      "635/635 [==============================] - 72s 114ms/step - loss: 1.1824 - bounding_box_loss: 0.0609 - class_label_loss: 1.1215 - bounding_box_accuracy: 0.5490 - class_label_accuracy: 0.5118 - val_loss: 1.2097 - val_bounding_box_loss: 0.0766 - val_class_label_loss: 1.1331 - val_bounding_box_accuracy: 0.5839 - val_class_label_accuracy: 0.5816\n",
      "Epoch 15/20\n",
      "635/635 [==============================] - 72s 114ms/step - loss: 1.1689 - bounding_box_loss: 0.0596 - class_label_loss: 1.1092 - bounding_box_accuracy: 0.5448 - class_label_accuracy: 0.5242 - val_loss: 1.2155 - val_bounding_box_loss: 0.0769 - val_class_label_loss: 1.1386 - val_bounding_box_accuracy: 0.5839 - val_class_label_accuracy: 0.5768\n",
      "Epoch 16/20\n",
      "635/635 [==============================] - 72s 114ms/step - loss: 1.1727 - bounding_box_loss: 0.0589 - class_label_loss: 1.1137 - bounding_box_accuracy: 0.5368 - class_label_accuracy: 0.5319 - val_loss: 1.2158 - val_bounding_box_loss: 0.0784 - val_class_label_loss: 1.1374 - val_bounding_box_accuracy: 0.5792 - val_class_label_accuracy: 0.5674\n",
      "Epoch 17/20\n",
      "635/635 [==============================] - 72s 114ms/step - loss: 1.1634 - bounding_box_loss: 0.0579 - class_label_loss: 1.1055 - bounding_box_accuracy: 0.5442 - class_label_accuracy: 0.5348 - val_loss: 1.1966 - val_bounding_box_loss: 0.0779 - val_class_label_loss: 1.1187 - val_bounding_box_accuracy: 0.5839 - val_class_label_accuracy: 0.5831\n",
      "Epoch 18/20\n",
      "635/635 [==============================] - 72s 114ms/step - loss: 1.1544 - bounding_box_loss: 0.0568 - class_label_loss: 1.0976 - bounding_box_accuracy: 0.5451 - class_label_accuracy: 0.5387 - val_loss: 1.1927 - val_bounding_box_loss: 0.0767 - val_class_label_loss: 1.1160 - val_bounding_box_accuracy: 0.5902 - val_class_label_accuracy: 0.5816\n",
      "Epoch 19/20\n",
      "635/635 [==============================] - 72s 114ms/step - loss: 1.1485 - bounding_box_loss: 0.0559 - class_label_loss: 1.0925 - bounding_box_accuracy: 0.5487 - class_label_accuracy: 0.5401 - val_loss: 1.2027 - val_bounding_box_loss: 0.0769 - val_class_label_loss: 1.1258 - val_bounding_box_accuracy: 0.5934 - val_class_label_accuracy: 0.5776\n",
      "Epoch 20/20\n",
      "635/635 [==============================] - 72s 114ms/step - loss: 1.1445 - bounding_box_loss: 0.0546 - class_label_loss: 1.0899 - bounding_box_accuracy: 0.5456 - class_label_accuracy: 0.5423 - val_loss: 1.1751 - val_bounding_box_loss: 0.0788 - val_class_label_loss: 1.0963 - val_bounding_box_accuracy: 0.5823 - val_class_label_accuracy: 0.5847\n"
     ]
    }
   ],
   "source": [
    "H = model.fit(\n",
    "    train_images, train_targets,\n",
    "    validation_data=(val_images, val_targets),\n",
    "    batch_size=16,\n",
    "    epochs=20,\n",
    "    callbacks=[callback],\n",
    "    verbose=1)"
   ]
  },
  {
   "cell_type": "code",
   "execution_count": null,
   "metadata": {
    "id": "dkS2KADzE1Pm"
   },
   "outputs": [],
   "source": [
    "model.save('4_layers_CNN', save_format=\"h5\")"
   ]
  },
  {
   "cell_type": "markdown",
   "metadata": {},
   "source": [
    "### Use VGG19 model from Keras"
   ]
  },
  {
   "cell_type": "code",
   "execution_count": null,
   "metadata": {
    "id": "57iaE6rJeocg"
   },
   "outputs": [],
   "source": [
    "# load the VGG16 network\n",
    "model = tf.keras.applications.vgg19.VGG19(weights='imagenet', include_top=False, input_tensor=Input(shape=(256, 256, 3)), classes=4)\n",
    "\n",
    "# freeze all VGG layers\n",
    "model.trainable = False\n",
    "\n",
    "# flatten the max-pooling output of VGG\n",
    "flatten = model.output\n",
    "flatten = Flatten()(flatten)\n",
    "\n",
    "# add dense layers header to predict bounding box coordinates\n",
    "bbox_head = Dense(128, activation=\"relu\")(flatten)\n",
    "bbox_head = Dense(64, activation=\"relu\")(bbox_head)\n",
    "bbox_head = Dense(32, activation=\"relu\")(bbox_head)\n",
    "bbox_head = Dense(4, activation=\"sigmoid\", name=\"bounding_box\")(bbox_head)\n",
    "\n",
    "# add a second dense layers head to predict class labels\n",
    "label_head = Dense(128, activation=\"relu\")(flatten)\n",
    "label_head = Dropout(0.5)(label_head)\n",
    "label_head = Dense(64, activation=\"relu\")(label_head)\n",
    "label_head = Dropout(0.5)(label_head)\n",
    "label_head = Dense(len(lb.classes_), activation=\"softmax\", name=\"class_label\")(label_head)\n",
    "\n",
    "# accept an input image and output bounding box coordinates and class labels\n",
    "model = Model(inputs=model.input, outputs=(bbox_head, label_head))"
   ]
  },
  {
   "cell_type": "markdown",
   "metadata": {},
   "source": [
    "### Go up to compile the model and train it!"
   ]
  },
  {
   "cell_type": "markdown",
   "metadata": {},
   "source": [
    "### Save the VGG19 model"
   ]
  },
  {
   "cell_type": "code",
   "execution_count": null,
   "metadata": {},
   "outputs": [],
   "source": [
    "model.save('VGG19', save_format=\"h5\")"
   ]
  },
  {
   "cell_type": "markdown",
   "metadata": {},
   "source": [
    "### Plot the results"
   ]
  },
  {
   "cell_type": "code",
   "execution_count": null,
   "metadata": {
    "colab": {
     "base_uri": "https://localhost:8080/",
     "height": 1000
    },
    "id": "SSPTuJkQSHwu",
    "outputId": "1da16849-2e0f-4aa2-cf38-0dc929794095"
   },
   "outputs": [],
   "source": [
    "# plot the total loss, label loss, and bounding box loss\n",
    "loss_names = [\"loss\", \"class_label_loss\", \"bounding_box_loss\"]\n",
    "N = np.arange(0, 20)\n",
    "plt.style.use(\"ggplot\")\n",
    "(fig, ax) = plt.subplots(3, 1, figsize=(13, 13))\n",
    "\n",
    "# loop over the loss names\n",
    "for (i, l) in enumerate(loss_names):\n",
    "    # plot the loss for both the training and validation data\n",
    "    title = \"Loss for {}\".format(l) if l != \"loss\" else \"Total loss\"\n",
    "    ax[i].set_title(title)\n",
    "    ax[i].set_xlabel(\"Epoch #\")\n",
    "    ax[i].set_ylabel(\"Loss\")\n",
    "    ax[i].plot(N, H.history[l], label=l)\n",
    "    ax[i].plot(N, H.history[\"val_\" + l], label=\"val_\" + l)\n",
    "    ax[i].legend()\n",
    "\n",
    "# save the losses figure and create a new figure for the accuracies\n",
    "plt.tight_layout()\n",
    "plot_path = os.path.join('.', \"losses_2_layers_.png\")\n",
    "plt.savefig(plot_path)\n",
    "plt.close()"
   ]
  },
  {
   "cell_type": "code",
   "execution_count": null,
   "metadata": {
    "colab": {
     "base_uri": "https://localhost:8080/",
     "height": 506
    },
    "id": "_ES1gAMuZB5L",
    "outputId": "d751bf02-fc52-4b3d-a385-abfd82750802"
   },
   "outputs": [],
   "source": [
    "# create a new figure for the accuracies\n",
    "plt.style.use(\"ggplot\")\n",
    "plt.figure()\n",
    "plt.plot(N, H.history[\"class_label_accuracy\"], label=\"class_label_accuracy\")\n",
    "plt.plot(N, H.history[\"val_class_label_accuracy\"], label=\"val_class_label_accuracy\")\n",
    "plt.title(\"Class Label Accuracy\")\n",
    "plt.xlabel(\"Epoch #\")\n",
    "plt.ylabel(\"Accuracy\")\n",
    "plt.legend(loc=\"lower left\")\n",
    "\n",
    "# save the accuracies plot\n",
    "plot_path = os.path.join('.', \"accuracies_2_layers_.png\")\n",
    "plt.savefig(plot_path)"
   ]
  }
 ],
 "metadata": {
  "accelerator": "GPU",
  "colab": {
   "collapsed_sections": [],
   "name": "covid19-inflate-dataset-albumentations.ipynb",
   "provenance": []
  },
  "kernelspec": {
   "display_name": "Python 3",
   "language": "python",
   "name": "python3"
  },
  "language_info": {
   "codemirror_mode": {
    "name": "ipython",
    "version": 3
   },
   "file_extension": ".py",
   "mimetype": "text/x-python",
   "name": "python",
   "nbconvert_exporter": "python",
   "pygments_lexer": "ipython3",
   "version": "3.8.11"
  }
 },
 "nbformat": 4,
 "nbformat_minor": 1
}
